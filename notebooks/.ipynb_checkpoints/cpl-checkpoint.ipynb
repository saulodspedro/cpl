{
 "cells": [
  {
   "cell_type": "code",
   "execution_count": 6,
   "metadata": {},
   "outputs": [],
   "source": [
    "#system imports\n",
    "import time\n",
    "import sys\n",
    "sys.path.append('/home/saulo/projects/cpl/src')\n",
    "\n",
    "#cpl imports\n",
    "from cpl import cplconfig\n",
    "from cpl.promotion import promote_instances, promote_seed_instances\n",
    "from cpl.utils import db_conn, flatten\n",
    "import pandas as pd"
   ]
  },
  {
   "cell_type": "code",
   "execution_count": 39,
   "metadata": {},
   "outputs": [],
   "source": [
    "def promote_patterns(category, iteration, max_promotions ,limit, T):\n",
    "    \n",
    "    db_ap = db_conn('db_allpairs')\n",
    "    db_cpl = db_conn('db_cpl')\n",
    "    \n",
    "    last_promoted_instances = category['promoted_instances'][iteration-1]\n",
    "    all_promoted_patterns = list(flatten(category['promoted_patterns']))\n",
    "    all_promoted_instances = list(flatten(category['promoted_instances']))\n",
    "    \n",
    "    #get the promoted instances of the mutex exception categories\n",
    "    mutex_query = (db_cpl.ontology.\n",
    "                   find({'category_name':{\"$in\":category['mutex_exceptions']}}))\n",
    "    \n",
    "    mutex_instances = list(flatten([i['promoted_instances'] for i in mutex_query]))\n",
    "    \n",
    "    #extraction step\n",
    "    #count the ocurrences of patterns that co-occur with the\n",
    "    #positive promoted instances in the last iteration\n",
    "    #without considering patterns that were already promoted\n",
    "    pipe_pos = [{\"$match\":{\"$and\":[{\"noun_phrase\":{\"$in\":last_promoted_instances}},   \n",
    "                                   {\"ctx_pattern\":{\"$nin\":all_promoted_patterns}}]}},\n",
    "                {\"$group\": {\"_id\": \"$ctx_pattern\", \"count\": {\"$sum\": \"$counter\"}}},\n",
    "                {\"$limit\": limit}]  # limit is used for performance only\n",
    "    \n",
    "    #count the ocurrences of patterns that co-occur with the\n",
    "    #negative promoted instances in the last iteration\n",
    "    pipe_neg = [{\"$match\":{\"$and\":[{\"noun_phrase\":{\"$nin\":all_promoted_instances}},\n",
    "                                   {\"noun_phrase\":{\"$nin\":mutex_instances}}]}},\n",
    "                {\"$group\": {\"_id\": \"$ctx_pattern\", \"count\": {\"$sum\": \"$counter\"}}}]\n",
    "    \n",
    "    if list(db_ap.allpairs.aggregate(pipe_pos)):  #if at least one positive pattern was found\n",
    "        df_positive = pd.DataFrame(list(db_ap.allpairs.aggregate(pipe_pos))).set_index(\"_id\")\n",
    "        df_negative = pd.DataFrame(list(db_ap.allpairs.aggregate(pipe_neg))).set_index(\"_id\")\n",
    "        \n",
    "        pipe_count = [{\"$match\":{\"ctx_pattern\":{\"$in\":list(df_positive.index.values)}}},\n",
    "                      {\"$group\": {\"_id\": \"$ctx_pattern\", \"count\": {\"$sum\": \"$counter\"}}}]\n",
    "        \n",
    "        df_count = pd.DataFrame(list(db_ap.allpairs.aggregate(pipe_count))).set_index(\"_id\")\n",
    "        \n",
    "        print(df_count)\n",
    "        \n",
    "        joined = (df_positive\n",
    "                  .join(df_negative, rsuffix='_neg')\n",
    "                  .join(df_count, rsuffix='_cnt')\n",
    "                  .fillna(0)\n",
    "                  .assign(passed_filter=lambda df:  \n",
    "                          (df['count'] >= df['count_neg']*T) &  # filter criterion #1\n",
    "                          (df['count'] >= 2))                   # filter criterion #2\n",
    "                  .assign(precision=lambda df:\n",
    "                          df['count']/df['count_cnt']))  #rank criterion\n",
    "                  \n",
    "        promoted_patterns = (joined[joined['passed_filter']]                # filter step\n",
    "                             .sort_values(by='precision', ascending=False)  # rank step\n",
    "                             .head(max_promotions)                          # promote step\n",
    "                             .index.values)\n",
    "        \n",
    "    else:\n",
    "        promoted_patterns = []\n",
    "        \n",
    "    return promoted_patterns\n",
    "    \n",
    "    "
   ]
  },
  {
   "cell_type": "code",
   "execution_count": 40,
   "metadata": {},
   "outputs": [
    {
     "name": "stdout",
     "output_type": "stream",
     "text": [
      "Iteration 0 took 0.02679610252380371s\n",
      "country\n",
      "                    count\n",
      "_id                      \n",
      "i love _              4.0\n",
      "_ has a nice beach    2.0\n",
      "                    count  count_neg  count_cnt  passed_filter  precision\n",
      "_id                                                                      \n",
      "_ has a nice beach    2.0        0.0        2.0           True       1.00\n",
      "i love _              1.0        0.0        4.0          False       0.25\n"
     ]
    },
    {
     "ename": "UnboundLocalError",
     "evalue": "local variable 'promoted_patterns' referenced before assignment",
     "output_type": "error",
     "traceback": [
      "\u001b[0;31m---------------------------------------------------------------------------\u001b[0m",
      "\u001b[0;31mUnboundLocalError\u001b[0m                         Traceback (most recent call last)",
      "\u001b[0;32m<ipython-input-40-b234ab20cd24>\u001b[0m in \u001b[0;36m<module>\u001b[0;34m\u001b[0m\n\u001b[1;32m     38\u001b[0m         \u001b[0mprint\u001b[0m\u001b[0;34m(\u001b[0m\u001b[0;34m'Iteration {} took {}s'\u001b[0m\u001b[0;34m.\u001b[0m\u001b[0mformat\u001b[0m\u001b[0;34m(\u001b[0m\u001b[0mi\u001b[0m\u001b[0;34m,\u001b[0m \u001b[0mi_end_time\u001b[0m\u001b[0;34m-\u001b[0m\u001b[0mi_start_time\u001b[0m\u001b[0;34m)\u001b[0m\u001b[0;34m)\u001b[0m\u001b[0;34m\u001b[0m\u001b[0;34m\u001b[0m\u001b[0m\n\u001b[1;32m     39\u001b[0m \u001b[0;34m\u001b[0m\u001b[0m\n\u001b[0;32m---> 40\u001b[0;31m \u001b[0mmain\u001b[0m\u001b[0;34m(\u001b[0m\u001b[0;34m)\u001b[0m\u001b[0;34m\u001b[0m\u001b[0;34m\u001b[0m\u001b[0m\n\u001b[0m\u001b[1;32m     41\u001b[0m \u001b[0;34m\u001b[0m\u001b[0m\n",
      "\u001b[0;32m<ipython-input-40-b234ab20cd24>\u001b[0m in \u001b[0;36mmain\u001b[0;34m()\u001b[0m\n\u001b[1;32m     30\u001b[0m                     \u001b[0mstart\u001b[0m \u001b[0;34m=\u001b[0m \u001b[0mtime\u001b[0m\u001b[0;34m.\u001b[0m\u001b[0mtime\u001b[0m\u001b[0;34m(\u001b[0m\u001b[0;34m)\u001b[0m\u001b[0;34m\u001b[0m\u001b[0;34m\u001b[0m\u001b[0m\n\u001b[1;32m     31\u001b[0m                    \u001b[0;31m# pi = promote_instances(category, i, max_p, l, T)\u001b[0m\u001b[0;34m\u001b[0m\u001b[0;34m\u001b[0m\u001b[0;34m\u001b[0m\u001b[0m\n\u001b[0;32m---> 32\u001b[0;31m                     \u001b[0mpromote_patterns\u001b[0m\u001b[0;34m(\u001b[0m\u001b[0mcategory\u001b[0m\u001b[0;34m,\u001b[0m \u001b[0mi\u001b[0m\u001b[0;34m,\u001b[0m \u001b[0mmax_p\u001b[0m\u001b[0;34m,\u001b[0m \u001b[0ml\u001b[0m\u001b[0;34m,\u001b[0m \u001b[0mT\u001b[0m\u001b[0;34m)\u001b[0m\u001b[0;34m\u001b[0m\u001b[0;34m\u001b[0m\u001b[0m\n\u001b[0m\u001b[1;32m     33\u001b[0m                     \u001b[0mend\u001b[0m \u001b[0;34m=\u001b[0m \u001b[0mtime\u001b[0m\u001b[0;34m.\u001b[0m\u001b[0mtime\u001b[0m\u001b[0;34m(\u001b[0m\u001b[0;34m)\u001b[0m\u001b[0;34m\u001b[0m\u001b[0;34m\u001b[0m\u001b[0m\n\u001b[1;32m     34\u001b[0m                     \u001b[0mprint\u001b[0m\u001b[0;34m(\u001b[0m\u001b[0mi\u001b[0m\u001b[0;34m,\u001b[0m \u001b[0mc_init\u001b[0m\u001b[0;34m[\u001b[0m\u001b[0;34m'category_name'\u001b[0m\u001b[0;34m]\u001b[0m\u001b[0;34m,\u001b[0m \u001b[0mlen\u001b[0m\u001b[0;34m(\u001b[0m\u001b[0mpi\u001b[0m\u001b[0;34m)\u001b[0m\u001b[0;34m,\u001b[0m \u001b[0mend\u001b[0m\u001b[0;34m-\u001b[0m\u001b[0mstart\u001b[0m\u001b[0;34m,\u001b[0m \u001b[0msep\u001b[0m\u001b[0;34m=\u001b[0m\u001b[0;34m','\u001b[0m\u001b[0;34m)\u001b[0m\u001b[0;34m\u001b[0m\u001b[0;34m\u001b[0m\u001b[0m\n",
      "\u001b[0;32m<ipython-input-39-ea26d5856197>\u001b[0m in \u001b[0;36mpromote_patterns\u001b[0;34m(category, iteration, max_promotions, limit, T)\u001b[0m\n\u001b[1;32m     59\u001b[0m         \u001b[0mpromoted_patterns\u001b[0m \u001b[0;34m=\u001b[0m \u001b[0;34m[\u001b[0m\u001b[0;34m]\u001b[0m\u001b[0;34m\u001b[0m\u001b[0;34m\u001b[0m\u001b[0m\n\u001b[1;32m     60\u001b[0m \u001b[0;34m\u001b[0m\u001b[0m\n\u001b[0;32m---> 61\u001b[0;31m     \u001b[0;32mreturn\u001b[0m \u001b[0mpromoted_patterns\u001b[0m\u001b[0;34m\u001b[0m\u001b[0;34m\u001b[0m\u001b[0m\n\u001b[0m\u001b[1;32m     62\u001b[0m \u001b[0;34m\u001b[0m\u001b[0m\n\u001b[1;32m     63\u001b[0m \u001b[0;34m\u001b[0m\u001b[0m\n",
      "\u001b[0;31mUnboundLocalError\u001b[0m: local variable 'promoted_patterns' referenced before assignment"
     ]
    }
   ],
   "source": [
    "def main():\n",
    "    \n",
    "    cpl_conf = cplconfig.configCPL()\n",
    "    \n",
    "    num_iter = cpl_conf.num_iter        # number of iterations\n",
    "    max_p = cpl_conf.max_promotions     # max promotions per iteration\n",
    "    l = cpl_conf.limit                  # max number of positive candidates for promotion\n",
    "    T = cpl_conf.T                      # multiplier of promotion threshold\n",
    "    \n",
    "    db_cpl = db_conn('db_cpl')          # db connection to ontology\n",
    "    \n",
    "    #load category metadata\n",
    "    categories_init = db_cpl.ontology.find(projection=['category_name','seed_instances'])\n",
    "    \n",
    "    for i in range(num_iter):  # for i iterations\n",
    "        \n",
    "        i_start_time = time.time()\n",
    "        \n",
    "        if (i == 0):  #if first iteration\n",
    "            promote_seed_instances(categories_init)\n",
    "            categories_init.rewind()\n",
    "        else:\n",
    "            for c_init in categories_init:  # for all categories\n",
    "                \n",
    "                #load category information\n",
    "                category = db_cpl.ontology.find_one({'category_name':c_init['category_name']})\n",
    "                \n",
    "                if i < len(category['promoted_patterns']):  #if there are positive patterns for this iteration\n",
    "                    print(c_init['category_name'])\n",
    "                    start = time.time()\n",
    "                   # pi = promote_instances(category, i, max_p, l, T)\n",
    "                    promote_patterns(category, i, max_p, l, T)\n",
    "                    end = time.time()\n",
    "                    print(i, c_init['category_name'], len(pi), end-start, sep=',')\n",
    "                    \n",
    "        i_end_time = time.time()\n",
    "        \n",
    "        print('Iteration {} took {}s'.format(i, i_end_time-i_start_time))\n",
    "\n",
    "main()\n",
    "    "
   ]
  },
  {
   "cell_type": "code",
   "execution_count": 12,
   "metadata": {},
   "outputs": [
    {
     "ename": "NameError",
     "evalue": "name 'db' is not defined",
     "output_type": "error",
     "traceback": [
      "\u001b[0;31m---------------------------------------------------------------------------\u001b[0m",
      "\u001b[0;31mNameError\u001b[0m                                 Traceback (most recent call last)",
      "\u001b[0;32m<ipython-input-12-0813d3290829>\u001b[0m in \u001b[0;36m<module>\u001b[0;34m\u001b[0m\n\u001b[1;32m      2\u001b[0m             {\"$group\": {\"_id\": \"$noun_phrase\", \"count\": {\"$sum\": \"$counter\"}}}]\n\u001b[1;32m      3\u001b[0m \u001b[0;34m\u001b[0m\u001b[0m\n\u001b[0;32m----> 4\u001b[0;31m \u001b[0mres\u001b[0m \u001b[0;34m=\u001b[0m \u001b[0mdb\u001b[0m\u001b[0;34m.\u001b[0m\u001b[0mallpairs\u001b[0m\u001b[0;34m.\u001b[0m\u001b[0maggregate\u001b[0m\u001b[0;34m(\u001b[0m\u001b[0mpipeline\u001b[0m\u001b[0;34m)\u001b[0m\u001b[0;34m\u001b[0m\u001b[0;34m\u001b[0m\u001b[0m\n\u001b[0m\u001b[1;32m      5\u001b[0m \u001b[0;34m\u001b[0m\u001b[0m\n\u001b[1;32m      6\u001b[0m \u001b[0mlist\u001b[0m\u001b[0;34m(\u001b[0m\u001b[0mres\u001b[0m\u001b[0;34m)\u001b[0m\u001b[0;34m\u001b[0m\u001b[0;34m\u001b[0m\u001b[0m\n",
      "\u001b[0;31mNameError\u001b[0m: name 'db' is not defined"
     ]
    }
   ],
   "source": [
    "pipeline = [{\"$match\":{\"ctx_pattern\":{\"$in\":[\"live in _\",\"is mayor of _\"]}}},\n",
    "            {\"$group\": {\"_id\": \"$noun_phrase\", \"count\": {\"$sum\": \"$counter\"}}}]\n",
    "\n",
    "res = db.allpairs.aggregate(pipeline)\n",
    "\n",
    "list(res)"
   ]
  },
  {
   "cell_type": "code",
   "execution_count": null,
   "metadata": {},
   "outputs": [],
   "source": []
  }
 ],
 "metadata": {
  "kernelspec": {
   "display_name": "Python 3",
   "language": "python",
   "name": "python3"
  },
  "language_info": {
   "codemirror_mode": {
    "name": "ipython",
    "version": 3
   },
   "file_extension": ".py",
   "mimetype": "text/x-python",
   "name": "python",
   "nbconvert_exporter": "python",
   "pygments_lexer": "ipython3",
   "version": "3.7.2"
  }
 },
 "nbformat": 4,
 "nbformat_minor": 2
}
