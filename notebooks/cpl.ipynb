{
 "cells": [
  {
   "cell_type": "code",
   "execution_count": 3,
   "metadata": {},
   "outputs": [],
   "source": [
    "import pymongo\n",
    "import pandas as pd"
   ]
  },
  {
   "cell_type": "code",
   "execution_count": 4,
   "metadata": {},
   "outputs": [],
   "source": [
    "def db_conn(db_name):\n",
    "    #connection to mongo database\n",
    "    conn = pymongo.MongoClient('mongodb://200.18.98.107:27017')\n",
    "\n",
    "    db_cpl = conn[db_name]\n",
    "    \n",
    "    return db_cpl"
   ]
  },
  {
   "cell_type": "code",
   "execution_count": 5,
   "metadata": {},
   "outputs": [],
   "source": [
    "db_ap = db_conn('db_allpairs')\n",
    "db_cpl = db_conn('db_cpl')"
   ]
  },
  {
   "cell_type": "code",
   "execution_count": 45,
   "metadata": {},
   "outputs": [],
   "source": [
    "def promote_instance(category_name, limit, T):\n",
    "    \n",
    "    #find all promoted patterns\n",
    "    category = (db_cpl.ontology\n",
    "                .find_one({'category_name':category_name}))\n",
    "                \n",
    "    promoted_patterns = category['promoted_patterns']\n",
    "    promoted_instances = category['promoted_instances']\n",
    "    mutex_exceptions = category['mutex_exceptions']\n",
    "    \n",
    "    #get the promoted patterns of the mutex exception categories\n",
    "    mutex_exception_query = (db_cpl.ontology.find({'category_name':{\"$in\":mutex_exceptions}}))   \n",
    "    mutex_exception_patterns = [i['promoted_patterns'] for i in mutex_exception_query]\n",
    "    mutex_exception_patterns = [item for sublist in mutex_exception_patterns for item in sublist]\n",
    "\n",
    "    #count the ocurrences of all posive categories with each promoted pattern\n",
    "    pipe_pos = [{\"$match\":{\"$and\":[{\"ctx_pattern\":{\"$in\":promoted_patterns}},       #extraction step\n",
    "                                   {\"noun_phrase\":{\"$nin\":promoted_instances}}]}},  #filter step \n",
    "                {\"$group\": {\"_id\": \"$noun_phrase\", \"count\": {\"$sum\": \"$counter\"}}}, \n",
    "                {\"$sort\": {\"count\":-1}},                                            #rank step\n",
    "                {\"$limit\": limit}]\n",
    "    \n",
    "    #count the ocurrences of all negative categories with each promoted pattern\n",
    "    pipe_neg = [{\"$match\":{\"$and\":[{\"ctx_pattern\":{\"$nin\":promoted_patterns}},\n",
    "                                   {\"ctx_pattern\":{\"$nin\":mutex_exception_patterns}}]}},\n",
    "                {\"$group\": {\"_id\": \"$noun_phrase\", \"count\": {\"$sum\": \"$counter\"}}},\n",
    "                {\"$sort\": {\"count\":-1}}]\n",
    "    \n",
    "    df_positive = pd.DataFrame(list(db_ap.allpairs.aggregate(pipe_pos))).set_index(\"_id\")\n",
    "    df_negative = pd.DataFrame(list(db_ap.allpairs.aggregate(pipe_neg))).set_index(\"_id\")\n",
    "    \n",
    "    joined = (df_positive.join(df_negative, rsuffix='_neg')\n",
    "              .fillna(0)\n",
    "              .assign(tri_count_neg=lambda df: df['count'] >= df['count_neg']*T))  #promote step\n",
    "    \n",
    "    promoted_instances=list(joined[joined['tri_count_neg']].index.values)\n",
    "    \n",
    "    return promoted_instances"
   ]
  },
  {
   "cell_type": "code",
   "execution_count": null,
   "metadata": {},
   "outputs": [],
   "source": [
    "def promote_ctx_pattern(category_name):\n",
    "    #find all promoted patterns\n",
    "    category = (db_cpl.ontology\n",
    "                .find_one({'category_name':category_name}))"
   ]
  },
  {
   "cell_type": "code",
   "execution_count": 46,
   "metadata": {},
   "outputs": [
    {
     "name": "stdout",
     "output_type": "stream",
     "text": [
      "             count\n",
      "_id               \n",
      "grapes         2.0\n",
      "london         1.0\n",
      "honda civic    1.0\n",
      "mexico         1.0\n"
     ]
    },
    {
     "data": {
      "text/plain": [
       "['sao paulo', 'london', 'pittsburgh', 'berlin']"
      ]
     },
     "execution_count": 46,
     "metadata": {},
     "output_type": "execute_result"
    }
   ],
   "source": [
    "pr = promote_instance('city',10)\n",
    "\n",
    "pr"
   ]
  },
  {
   "cell_type": "code",
   "execution_count": 63,
   "metadata": {},
   "outputs": [
    {
     "data": {
      "text/plain": [
       "[{'_id': 'berlin', 'count': 1.0},\n",
       " {'_id': 'pittsburgh', 'count': 3.0},\n",
       " {'_id': 'las vegas', 'count': 1.0},\n",
       " {'_id': 'sao paulo', 'count': 4.0},\n",
       " {'_id': 'london', 'count': 1.0}]"
      ]
     },
     "execution_count": 63,
     "metadata": {},
     "output_type": "execute_result"
    }
   ],
   "source": [
    "pipeline = [{\"$match\":{\"ctx_pattern\":{\"$in\":[\"live in _\",\"is mayor of _\"]}}},\n",
    "            {\"$group\": {\"_id\": \"$noun_phrase\", \"count\": {\"$sum\": \"$counter\"}}}]\n",
    "\n",
    "res = db.allpairs.aggregate(pipeline)\n",
    "\n",
    "list(res)"
   ]
  },
  {
   "cell_type": "code",
   "execution_count": 14,
   "metadata": {},
   "outputs": [
    {
     "ename": "SyntaxError",
     "evalue": "invalid syntax (<ipython-input-14-51356296cb0d>, line 3)",
     "output_type": "error",
     "traceback": [
      "\u001b[0;36m  File \u001b[0;32m\"<ipython-input-14-51356296cb0d>\"\u001b[0;36m, line \u001b[0;32m3\u001b[0m\n\u001b[0;31m    y = **(x)\u001b[0m\n\u001b[0m         ^\u001b[0m\n\u001b[0;31mSyntaxError\u001b[0m\u001b[0;31m:\u001b[0m invalid syntax\n"
     ]
    }
   ],
   "source": [
    "x = ['a','b','c']\n",
    "\n",
    "y = **(x)"
   ]
  },
  {
   "cell_type": "code",
   "execution_count": null,
   "metadata": {},
   "outputs": [],
   "source": []
  }
 ],
 "metadata": {
  "kernelspec": {
   "display_name": "Python 3",
   "language": "python",
   "name": "python3"
  },
  "language_info": {
   "codemirror_mode": {
    "name": "ipython",
    "version": 3
   },
   "file_extension": ".py",
   "mimetype": "text/x-python",
   "name": "python",
   "nbconvert_exporter": "python",
   "pygments_lexer": "ipython3",
   "version": "3.7.2"
  }
 },
 "nbformat": 4,
 "nbformat_minor": 2
}
