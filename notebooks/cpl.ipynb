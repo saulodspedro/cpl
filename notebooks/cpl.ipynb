{
 "cells": [
  {
   "cell_type": "code",
   "execution_count": 1,
   "metadata": {},
   "outputs": [],
   "source": [
    "#system imports\n",
    "import time\n",
    "import sys\n",
    "sys.path.append('/home/saulo/projects/cpl/src')\n",
    "\n",
    "#cpl imports\n",
    "from cpl import cplconfig\n",
    "from cpl.promotion import promote_instances\n",
    "from cpl.utils import db_conn"
   ]
  },
  {
   "cell_type": "code",
   "execution_count": 9,
   "metadata": {},
   "outputs": [
    {
     "name": "stdout",
     "output_type": "stream",
     "text": [
      "Iteration 0 took 0.04070568084716797s\n",
      "Iteration 1 took 6.198883056640625e-06s\n",
      "Iteration 2 took 5.9604644775390625e-06s\n",
      "Iteration 3 took 5.4836273193359375e-06s\n",
      "Iteration 4 took 5.0067901611328125e-06s\n",
      "Iteration 5 took 5.245208740234375e-06s\n",
      "Iteration 6 took 5.245208740234375e-06s\n",
      "Iteration 7 took 5.4836273193359375e-06s\n",
      "Iteration 8 took 5.245208740234375e-06s\n",
      "Iteration 9 took 5.245208740234375e-06s\n"
     ]
    }
   ],
   "source": [
    "def main():\n",
    "    \n",
    "    cpl_conf = cplconfig.configCPL()\n",
    "    \n",
    "    num_iter = cpl_conf.num_iter        # number of iterations\n",
    "    max_p = cpl_conf.max_promotions     # max promotions per iteration\n",
    "    l = cpl_conf.limit                  # max number of positive candidates for promotion\n",
    "    T = cpl_conf.T                      # multiplier of promotion threshold\n",
    "    \n",
    "    db_cpl = db_conn('db_cpl')          # db connection to ontology\n",
    "    \n",
    "    categories = db_cpl.ontology.find()\n",
    "    \n",
    "    for i in range(num_iter):  # for i iterations\n",
    "        \n",
    "        i_start_time = time.time()\n",
    "        \n",
    "        if (i == 0):  #if first iteration\n",
    "            promote_seed_instances(categories)\n",
    "        else:\n",
    "            for category in categories:  # for all categories\n",
    "                \n",
    "                if i < len(category['promoted_patterns']):  #if there are positive patterns for this iteration\n",
    "                    start = time.time()\n",
    "                    promote_instances(category, i, max_p, l, T)\n",
    "                    end = time.time()\n",
    "                    print(i, category_name, len(promote_instance), end-start, sep=',')\n",
    "                    \n",
    "        i_end_time = time.time()\n",
    "        \n",
    "        print('Iteration {} took {}s'.format(i, i_end_time-i_start_time))\n",
    "\n",
    "main()\n",
    "    "
   ]
  },
  {
   "cell_type": "code",
   "execution_count": 8,
   "metadata": {},
   "outputs": [],
   "source": [
    "def promote_seed_instances(categories):\n",
    "    db_cpl = db_conn('db_cpl')\n",
    "    \n",
    "    #category['category_name']\n",
    "    \n",
    "    for category in categories:\n",
    "        db_cpl.ontology.update_one({'category_name':'city'},\n",
    "                                   {\"$set\":{'promoted_instances.0':category['seed_instances']}})"
   ]
  },
  {
   "cell_type": "code",
   "execution_count": null,
   "metadata": {},
   "outputs": [],
   "source": [
    "pr = promote_instance('city',2,10,20,4)\n",
    "\n",
    "pr"
   ]
  },
  {
   "cell_type": "code",
   "execution_count": 63,
   "metadata": {},
   "outputs": [
    {
     "data": {
      "text/plain": [
       "[{'_id': 'berlin', 'count': 1.0},\n",
       " {'_id': 'pittsburgh', 'count': 3.0},\n",
       " {'_id': 'las vegas', 'count': 1.0},\n",
       " {'_id': 'sao paulo', 'count': 4.0},\n",
       " {'_id': 'london', 'count': 1.0}]"
      ]
     },
     "execution_count": 63,
     "metadata": {},
     "output_type": "execute_result"
    }
   ],
   "source": [
    "pipeline = [{\"$match\":{\"ctx_pattern\":{\"$in\":[\"live in _\",\"is mayor of _\"]}}},\n",
    "            {\"$group\": {\"_id\": \"$noun_phrase\", \"count\": {\"$sum\": \"$counter\"}}}]\n",
    "\n",
    "res = db.allpairs.aggregate(pipeline)\n",
    "\n",
    "list(res)"
   ]
  },
  {
   "cell_type": "code",
   "execution_count": 91,
   "metadata": {},
   "outputs": [
    {
     "data": {
      "text/plain": [
       "[1, 2, 3, 4, 5, 6, 7, 8, 9, 10, 11, 12, 13]"
      ]
     },
     "execution_count": 91,
     "metadata": {},
     "output_type": "execute_result"
    }
   ],
   "source": [
    "x = [[1],[2],[3,4],[[5],[6,7,8]],[9],[10,11],[12],13]\n",
    "\n",
    "list(flatten(x))\n",
    "\n",
    "#list(itertools.chain.from_iterable(x))\n",
    "#denest(x,out)"
   ]
  },
  {
   "cell_type": "code",
   "execution_count": 11,
   "metadata": {},
   "outputs": [],
   "source": [
    "def flatten(l):\n",
    "    for el in l:\n",
    "        if isinstance(el, collections.Iterable) and not isinstance(el, (str, bytes)):\n",
    "            yield from flatten(el)\n",
    "        else:\n",
    "            yield el"
   ]
  },
  {
   "cell_type": "code",
   "execution_count": null,
   "metadata": {},
   "outputs": [],
   "source": [
    "def promote_instances(category, iteration, max_promotions ,limit, T):\n",
    "    \n",
    "    last_promoted_patterns = category['promoted_patterns'][iteration]\n",
    "    all_promoted_patterns = list(flatten(category['promoted_patterns']))\n",
    "    all_promoted_instances = list(flatten(category['promoted_instances']))\n",
    "    \n",
    "    #get the promoted patterns of the mutex exception categories\n",
    "    mutex_query = (db_cpl.ontology.\n",
    "                   find({'category_name':{\"$in\":category['mutex_exceptions']}}))\n",
    "    \n",
    "    mutex_patterns = list(flatten([i['promoted_patterns'] for i in mutex_query]))\n",
    "\n",
    "    #count the ocurrences of all instances promoted pattern (positive) for this iteration\n",
    "    pipe_pos = [{\"$match\":{\"$and\":[{\"ctx_pattern\":{\"$in\":last_promoted_patterns}},       # extraction step\n",
    "                                   {\"noun_phrase\":{\"$nin\":all_promoted_instances}}]}},   # filter already promoted\n",
    "                {\"$group\": {\"_id\": \"$noun_phrase\", \"count\": {\"$sum\": \"$counter\"}}}, \n",
    "                {\"$sort\": {\"count\":-1}},                                                 # rank step\n",
    "                {\"$limit\": limit}]  # limit is used for performance only\n",
    "    \n",
    "    #count the ocurrences of all instances promoted pattern (negative) for this iteration: filter step\n",
    "    pipe_neg = [{\"$match\":{\"$and\":[{\"ctx_pattern\":{\"$nin\":all_promoted_patterns}},\n",
    "                                   {\"ctx_pattern\":{\"$nin\":mutex_patterns}}]}},\n",
    "                {\"$group\": {\"_id\": \"$noun_phrase\", \"count\": {\"$sum\": \"$counter\"}}},\n",
    "                {\"$sort\": {\"count\":-1}}]\n",
    "    \n",
    "    if list(db_ap.allpairs.aggregate(pipe_pos)):  #if at least one positive pattern was found\n",
    "        df_positive = pd.DataFrame(list(db_ap.allpairs.aggregate(pipe_pos))).set_index(\"_id\")\n",
    "        df_negative = pd.DataFrame(list(db_ap.allpairs.aggregate(pipe_neg))).set_index(\"_id\")\n",
    "        \n",
    "        joined = (df_positive.join(df_negative, rsuffix='_neg')\n",
    "                  .fillna(0)\n",
    "                  .assign(mult_count_neg=lambda df: df['count'] >= df['count_neg']*T))\n",
    "        \n",
    "        promoted_instances=list(joined[joined['mult_count_neg']]\n",
    "                                .head(max_promotions)  # promote step\n",
    "                                .index.values)\n",
    "    else:\n",
    "        promoted_instances = []\n",
    "    \n",
    "    return promoted_instances"
   ]
  }
 ],
 "metadata": {
  "kernelspec": {
   "display_name": "Python 3",
   "language": "python",
   "name": "python3"
  },
  "language_info": {
   "codemirror_mode": {
    "name": "ipython",
    "version": 3
   },
   "file_extension": ".py",
   "mimetype": "text/x-python",
   "name": "python",
   "nbconvert_exporter": "python",
   "pygments_lexer": "ipython3",
   "version": "3.7.2"
  }
 },
 "nbformat": 4,
 "nbformat_minor": 2
}
